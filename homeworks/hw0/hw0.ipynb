{
 "cells": [
  {
   "cell_type": "markdown",
   "id": "a4f840a1-2549-4975-b6a5-41dba3e0d4e3",
   "metadata": {
    "id": "AGf_xvZiT0Ww"
   },
   "source": [
    "# Домашнее задание № 0\n",
    "Вам необходимо провести анализ данных и с помощью него ответить на поставленные вопросы. \n",
    "\n",
    "# Исходные данные\n",
    "Этот набор данных представляет собой описание около 1 миллиона треков с платформы Spotify. Скачайте датасет и ознакомьтесь с описанием данных в [источнике](https://www.kaggle.com/datasets/amitanshjoshi/spotify-1million-tracks/data)."
   ]
  },
  {
   "cell_type": "code",
   "execution_count": 1,
   "id": "4a5891dd-779a-4815-930e-411c69cd8033",
   "metadata": {
    "_cell_guid": "87372d85-e9ac-b3b3-c25d-33dfb357ccd8",
    "id": "pQ5OrqpATtVl"
   },
   "outputs": [
    {
     "name": "stderr",
     "output_type": "stream",
     "text": [
      "C:\\Users\\CAT\\anaconda3\\lib\\site-packages\\pandas\\core\\computation\\expressions.py:21: UserWarning: Pandas requires version '2.8.4' or newer of 'numexpr' (version '2.8.1' currently installed).\n",
      "  from pandas.core.computation.check import NUMEXPR_INSTALLED\n",
      "C:\\Users\\CAT\\anaconda3\\lib\\site-packages\\pandas\\core\\arrays\\masked.py:60: UserWarning: Pandas requires version '1.3.6' or newer of 'bottleneck' (version '1.3.4' currently installed).\n",
      "  from pandas.core import (\n"
     ]
    }
   ],
   "source": [
    "import pandas as pd"
   ]
  },
  {
   "cell_type": "code",
   "execution_count": 2,
   "id": "dc6f9f35-0cff-4ffb-96f6-06269c8764ca",
   "metadata": {
    "id": "cE9FdACVcBHd"
   },
   "outputs": [],
   "source": [
    "# Читаем данные\n",
    "path = 'spotify_data.csv'\n",
    "df = pd.read_csv(path, index_col=0)"
   ]
  },
  {
   "cell_type": "code",
   "execution_count": 3,
   "id": "c48be23c-d167-4706-9038-cd18db108f72",
   "metadata": {},
   "outputs": [
    {
     "data": {
      "text/html": [
       "<div>\n",
       "<style scoped>\n",
       "    .dataframe tbody tr th:only-of-type {\n",
       "        vertical-align: middle;\n",
       "    }\n",
       "\n",
       "    .dataframe tbody tr th {\n",
       "        vertical-align: top;\n",
       "    }\n",
       "\n",
       "    .dataframe thead th {\n",
       "        text-align: right;\n",
       "    }\n",
       "</style>\n",
       "<table border=\"1\" class=\"dataframe\">\n",
       "  <thead>\n",
       "    <tr style=\"text-align: right;\">\n",
       "      <th></th>\n",
       "      <th>730628</th>\n",
       "      <th>656782</th>\n",
       "      <th>736223</th>\n",
       "    </tr>\n",
       "  </thead>\n",
       "  <tbody>\n",
       "    <tr>\n",
       "      <th>artist_name</th>\n",
       "      <td>Música Nostra</td>\n",
       "      <td>Sidney Bechet</td>\n",
       "      <td>Jürg Kindle</td>\n",
       "    </tr>\n",
       "    <tr>\n",
       "      <th>track_name</th>\n",
       "      <td>Boleros Mallorquins</td>\n",
       "      <td>Avalon</td>\n",
       "      <td>Concerto N°5 In A Major, Rv 519 I. Allegro</td>\n",
       "    </tr>\n",
       "    <tr>\n",
       "      <th>track_id</th>\n",
       "      <td>4UNoWd0BhMmdK2P0ZuJdBB</td>\n",
       "      <td>07GgfdzdLNndOTUyajNIwI</td>\n",
       "      <td>3YmUDn6zFJOeVFWHakJaJR</td>\n",
       "    </tr>\n",
       "    <tr>\n",
       "      <th>popularity</th>\n",
       "      <td>12</td>\n",
       "      <td>17</td>\n",
       "      <td>0</td>\n",
       "    </tr>\n",
       "    <tr>\n",
       "      <th>year</th>\n",
       "      <td>2000</td>\n",
       "      <td>2000</td>\n",
       "      <td>2001</td>\n",
       "    </tr>\n",
       "    <tr>\n",
       "      <th>genre</th>\n",
       "      <td>spanish</td>\n",
       "      <td>jazz</td>\n",
       "      <td>acoustic</td>\n",
       "    </tr>\n",
       "    <tr>\n",
       "      <th>danceability</th>\n",
       "      <td>0.486</td>\n",
       "      <td>0.627</td>\n",
       "      <td>0.406</td>\n",
       "    </tr>\n",
       "    <tr>\n",
       "      <th>energy</th>\n",
       "      <td>0.69</td>\n",
       "      <td>0.683</td>\n",
       "      <td>0.168</td>\n",
       "    </tr>\n",
       "    <tr>\n",
       "      <th>key</th>\n",
       "      <td>0</td>\n",
       "      <td>5</td>\n",
       "      <td>9</td>\n",
       "    </tr>\n",
       "    <tr>\n",
       "      <th>loudness</th>\n",
       "      <td>-9.148</td>\n",
       "      <td>-7.823</td>\n",
       "      <td>-20.758</td>\n",
       "    </tr>\n",
       "    <tr>\n",
       "      <th>mode</th>\n",
       "      <td>1</td>\n",
       "      <td>1</td>\n",
       "      <td>1</td>\n",
       "    </tr>\n",
       "    <tr>\n",
       "      <th>speechiness</th>\n",
       "      <td>0.231</td>\n",
       "      <td>0.0374</td>\n",
       "      <td>0.0409</td>\n",
       "    </tr>\n",
       "    <tr>\n",
       "      <th>acousticness</th>\n",
       "      <td>0.394</td>\n",
       "      <td>0.843</td>\n",
       "      <td>0.991</td>\n",
       "    </tr>\n",
       "    <tr>\n",
       "      <th>instrumentalness</th>\n",
       "      <td>0.000519</td>\n",
       "      <td>0.931</td>\n",
       "      <td>0.902</td>\n",
       "    </tr>\n",
       "    <tr>\n",
       "      <th>liveness</th>\n",
       "      <td>0.919</td>\n",
       "      <td>0.0464</td>\n",
       "      <td>0.113</td>\n",
       "    </tr>\n",
       "    <tr>\n",
       "      <th>valence</th>\n",
       "      <td>0.807</td>\n",
       "      <td>0.953</td>\n",
       "      <td>0.296</td>\n",
       "    </tr>\n",
       "    <tr>\n",
       "      <th>tempo</th>\n",
       "      <td>96.24</td>\n",
       "      <td>94.176</td>\n",
       "      <td>106.497</td>\n",
       "    </tr>\n",
       "    <tr>\n",
       "      <th>duration_ms</th>\n",
       "      <td>95347</td>\n",
       "      <td>295867</td>\n",
       "      <td>209467</td>\n",
       "    </tr>\n",
       "    <tr>\n",
       "      <th>time_signature</th>\n",
       "      <td>3</td>\n",
       "      <td>4</td>\n",
       "      <td>4</td>\n",
       "    </tr>\n",
       "  </tbody>\n",
       "</table>\n",
       "</div>"
      ],
      "text/plain": [
       "                                  730628                  656782  \\\n",
       "artist_name                Música Nostra           Sidney Bechet   \n",
       "track_name           Boleros Mallorquins                  Avalon   \n",
       "track_id          4UNoWd0BhMmdK2P0ZuJdBB  07GgfdzdLNndOTUyajNIwI   \n",
       "popularity                            12                      17   \n",
       "year                                2000                    2000   \n",
       "genre                            spanish                    jazz   \n",
       "danceability                       0.486                   0.627   \n",
       "energy                              0.69                   0.683   \n",
       "key                                    0                       5   \n",
       "loudness                          -9.148                  -7.823   \n",
       "mode                                   1                       1   \n",
       "speechiness                        0.231                  0.0374   \n",
       "acousticness                       0.394                   0.843   \n",
       "instrumentalness                0.000519                   0.931   \n",
       "liveness                           0.919                  0.0464   \n",
       "valence                            0.807                   0.953   \n",
       "tempo                              96.24                  94.176   \n",
       "duration_ms                        95347                  295867   \n",
       "time_signature                         3                       4   \n",
       "\n",
       "                                                      736223  \n",
       "artist_name                                      Jürg Kindle  \n",
       "track_name        Concerto N°5 In A Major, Rv 519 I. Allegro  \n",
       "track_id                              3YmUDn6zFJOeVFWHakJaJR  \n",
       "popularity                                                 0  \n",
       "year                                                    2001  \n",
       "genre                                               acoustic  \n",
       "danceability                                           0.406  \n",
       "energy                                                 0.168  \n",
       "key                                                        9  \n",
       "loudness                                             -20.758  \n",
       "mode                                                       1  \n",
       "speechiness                                           0.0409  \n",
       "acousticness                                           0.991  \n",
       "instrumentalness                                       0.902  \n",
       "liveness                                               0.113  \n",
       "valence                                                0.296  \n",
       "tempo                                                106.497  \n",
       "duration_ms                                           209467  \n",
       "time_signature                                             4  "
      ]
     },
     "execution_count": 3,
     "metadata": {},
     "output_type": "execute_result"
    }
   ],
   "source": [
    "df.sample(3).T"
   ]
  },
  {
   "cell_type": "markdown",
   "id": "35bf8b30-dd10-4095-8a10-f36b17f92994",
   "metadata": {
    "id": "i1j9Yn9Jhz-S"
   },
   "source": [
    "# Вопросы"
   ]
  },
  {
   "cell_type": "markdown",
   "id": "472ca155-a65f-45f0-99cd-cb3ff2fc21e8",
   "metadata": {},
   "source": [
    "## Анализ данных\n",
    "С помощью работы с типом данных DataFrame из библиотеки pandas ответье на поставленные вопросы"
   ]
  },
  {
   "cell_type": "code",
   "execution_count": null,
   "id": "f46e9e90-d219-4d73-a73c-d7f906469e7b",
   "metadata": {},
   "outputs": [],
   "source": []
  },
  {
   "cell_type": "markdown",
   "id": "f0a05171-95d4-4051-8710-f2df20ead9fb",
   "metadata": {},
   "source": [
    "### 1. Сколько уникальных исполнителей и сколько уникальных жанров содержится в датасете?\n",
    "\n",
    "**Результат**: Код и текстовый ответ на вопрос в формате\n",
    "\n",
    "```\n",
    "Уникальных исполнителей: <ответ>\n",
    "Уникальных жанров: <ответ>\n",
    "```"
   ]
  },
  {
   "cell_type": "code",
   "execution_count": 4,
   "id": "7170ea54-484a-41a8-8be7-bcc309fdead0",
   "metadata": {},
   "outputs": [
    {
     "name": "stdout",
     "output_type": "stream",
     "text": [
      "Уникальных исполнителей: 64159\n",
      "Уникальных жанров: 882361\n"
     ]
    }
   ],
   "source": [
    "print(f\"Уникальных исполнителей: {len(df.artist_name.unique())}\")\n",
    "print(f\"Уникальных жанров: {len(df.track_name.unique())}\")"
   ]
  },
  {
   "cell_type": "markdown",
   "id": "948d2a73-09bf-43c3-ad7b-6a00cacaaf48",
   "metadata": {},
   "source": [
    "### 2. Есть ли в данных пропуски? Если да, предложите способ их заполнения и реализуйте его\n",
    "\n",
    "**Результат**: Код и текстовый ответ на вопрос в формате\n",
    "\n",
    "```\n",
    "Для каждого столбца в таблице\n",
    "<Название столбца> - <Сколько пропусков> - <Описание способа заполнения> (Если были пропуски)\n",
    "```\n"
   ]
  },
  {
   "cell_type": "code",
   "execution_count": 5,
   "id": "cd606c12-207f-423b-b241-a9981a80cb95",
   "metadata": {},
   "outputs": [
    {
     "name": "stdout",
     "output_type": "stream",
     "text": [
      "artist_name - 15 - мода с учётом жанра\n",
      "track_name - 1 - мода с учётом исполнителя и жанра\n",
      "track_id - 0 \n",
      "popularity - 0 \n",
      "year - 0 \n",
      "genre - 0 \n",
      "danceability - 0 \n",
      "energy - 0 \n",
      "key - 0 \n",
      "loudness - 0 \n",
      "mode - 0 \n",
      "speechiness - 0 \n",
      "acousticness - 0 \n",
      "instrumentalness - 0 \n",
      "liveness - 0 \n",
      "valence - 0 \n",
      "tempo - 0 \n",
      "duration_ms - 0 \n",
      "time_signature - 0 \n"
     ]
    }
   ],
   "source": [
    "for column in df.columns:\n",
    "    print(f\"{column} - {df[column].isnull().sum()}\", end=' ')\n",
    "    if column == 'artist_name':\n",
    "        print(\"- мода с учётом жанра\", end='')\n",
    "    if column == 'track_name':\n",
    "        print(\"- мода с учётом исполнителя и жанра\", end='')\n",
    "    print()"
   ]
  },
  {
   "cell_type": "markdown",
   "id": "ff5fa1ce-fc67-4865-88a1-5834f1919e27",
   "metadata": {},
   "source": [
    "### 3. Есть ли признаки, которые не отвечают указанным в описании ограничениям? Если есть, то замените их\n",
    "\n",
    "**Результат**: Код и текстовый ответ на вопрос в формате\n",
    "\n",
    "```\n",
    "Для каждого столбца в таблице\n",
    "<Название столбца> - <Сколько не соответствующих ограничениям данных> - <Описание способа замены> (Если были некорректные данные)\n",
    "```"
   ]
  },
  {
   "cell_type": "code",
   "execution_count": 6,
   "id": "06f5ee4c-bf8f-4bee-928e-2493ed496a66",
   "metadata": {},
   "outputs": [
    {
     "name": "stdout",
     "output_type": "stream",
     "text": [
      "popularity - 0\n",
      "year - 0\n",
      "danceability - 0\n",
      "energy - 0\n",
      "key - 0\n",
      "loundness - 1198 - мода с учётом жанра\n",
      "mode - 0\n",
      "speechiness - 0\n",
      "acousticness - 0\n",
      "insrumentalness - 0\n",
      "liveness - 0\n",
      "valence - 0\n",
      "tempo - 0\n",
      "duration_ms - 0\n",
      "time_signature - 13888 - разделить duration на 60000\n"
     ]
    }
   ],
   "source": [
    "print(f'popularity - {df[(df[\"popularity\"] < 0) | (df[\"popularity\"] > 100)].shape[0]}')\n",
    "print(f'year - {df[(df[\"year\"] < 2000) | (df[\"year\"] > 2023)].shape[0]}')\n",
    "print(f'danceability - {df[(df[\"danceability\"] < 0) | (df[\"danceability\"] > 1)].shape[0]}')\n",
    "print(f'energy - {df[(df[\"energy\"] < 0) | (df[\"energy\"] > 1)].shape[0]}')\n",
    "print(f'key - {df[(df[\"key\"] < -1) | (df[\"key\"] > 11)].shape[0]}')\n",
    "print(f'loundness - {df[(df[\"loudness\"] < -60) | (df[\"loudness\"] > 0)].shape[0]} - мода с учётом жанра')\n",
    "print(f'mode - {df[~df[\"mode\"].isin([0, 1])].shape[0]}')\n",
    "print(f'speechiness - {df[(df[\"speechiness\"] < 0) | (df[\"speechiness\"] > 100)].shape[0]}')\n",
    "print(f'acousticness - {df[(df[\"acousticness\"] < 0) | (df[\"acousticness\"] > 1)].shape[0]}')\n",
    "print(f'insrumentalness - {df[(df[\"instrumentalness\"] < 0) | (df[\"instrumentalness\"] > 1)].shape[0]}')\n",
    "print(f'liveness - {df[(df[\"liveness\"] < 0) | (df[\"liveness\"] > 1)].shape[0]}')\n",
    "print(f'valence - {df[(df[\"valence\"] < 0) | (df[\"valence\"] > 1)].shape[0]}')\n",
    "print(f'tempo - {df[df[\"tempo\"] < 0].shape[0]}')\n",
    "print(f'duration_ms - {df[df[\"duration_ms\"] < 0].shape[0]}')\n",
    "print(f'time_signature - {df[(df[\"time_signature\"] < 3) | (df[\"time_signature\"] > 7)].shape[0]} - разделить duration на 60000')"
   ]
  },
  {
   "cell_type": "markdown",
   "id": "720ed6f9-87ea-4f1f-b73c-48ee5aaad9f1",
   "metadata": {},
   "source": [
    "## Визуальный анализ\n",
    "Ответом на вопрос должен быть график или несколько графиков в одной фигуре (картинке), с минимальной подписью"
   ]
  },
  {
   "cell_type": "code",
   "execution_count": 7,
   "id": "074cca35-dba7-44f6-9c96-db090f60d231",
   "metadata": {},
   "outputs": [],
   "source": [
    "import plotly.graph_objects as go\n",
    "import plotly.express as px"
   ]
  },
  {
   "cell_type": "markdown",
   "id": "5dcf93bb-9dbb-41d2-b469-a0a7ff490e61",
   "metadata": {},
   "source": [
    "### 1. Как Energy зависит от Danceability? Как зависит Loudness от Energy? Как эти параметры влияют на Valence?\n",
    "\n",
    "**Результат**: Код, реализующий графики:\n",
    "\n",
    "- Зависимость Energy от Danceability\n",
    "- Зависимость Loudness от Energy\n",
    "- Зависимость Valence от Energy, зависимость Valence от Danceability; в одной оси фигуры\n",
    "- Зависимость Valence от Loudness\n",
    "- Матрица корреляции Energy, Danceability, Loudness, Valence\n",
    "\n",
    "Каждый график должен иметь название, подписанные оси и, при необходимости, легенду.\n",
    "\n",
    "**Дополнительно**: Нарисовать стрелки и подписи к ним на графике, обращающие внимание на ключевые моменты, позволяющие сделать выводы о зависимостях. "
   ]
  },
  {
   "cell_type": "code",
   "execution_count": 8,
   "id": "58812ce7-1dfd-4144-9985-dd4891aba45b",
   "metadata": {},
   "outputs": [],
   "source": [
    "#px.density_heatmap(df, x='danceability', y='energy', title=\"Зависимость Energy от Danceability\")"
   ]
  },
  {
   "cell_type": "code",
   "execution_count": 9,
   "id": "b879a05c",
   "metadata": {},
   "outputs": [],
   "source": [
    "#px.density_heatmap(df, x='energy', y='loudness', title=\"Зависимость Loudness от Energy\")"
   ]
  },
  {
   "cell_type": "code",
   "execution_count": 10,
   "id": "bfaab5cf",
   "metadata": {},
   "outputs": [],
   "source": [
    "#Зависимость Valence от Energy, зависимость Valence от Danceability; в одной оси фигуры\n",
    "#px.density_heatmap(df, x='energy', z='danceability', y='valence', title=\"Зависимость Valence от Energy, Danceability\")"
   ]
  },
  {
   "cell_type": "code",
   "execution_count": 11,
   "id": "62ae3c46",
   "metadata": {},
   "outputs": [],
   "source": [
    "#px.density_heatmap(df, x='energy', y='valence', title=\"Зависимость Valence от Energy\")"
   ]
  },
  {
   "cell_type": "code",
   "execution_count": 12,
   "id": "7d07295f",
   "metadata": {},
   "outputs": [],
   "source": [
    "#px.density_heatmap(df, x='danceability', y='valence', title=\"Зависимость Valence от Danceability\")"
   ]
  },
  {
   "cell_type": "code",
   "execution_count": 13,
   "id": "a4d27165",
   "metadata": {},
   "outputs": [],
   "source": [
    "#px.density_heatmap(df, x='loudness', y='valence', title=\"Зависимость Valence от Loudness\")"
   ]
  },
  {
   "cell_type": "code",
   "execution_count": 14,
   "id": "de50e9e2",
   "metadata": {},
   "outputs": [
    {
     "data": {
      "text/plain": [
       "\"fig = go.Figure(data=go.Heatmap(\\n        z=df[['energy', 'danceability', 'loudness', 'valence']].corr(),\\n        x=['energy', 'danceability', 'loudness', 'valence'],\\n        y=['energy', 'danceability', 'loudness', 'valence'],\\n        colorscale='Viridis'))\\n\\nfig.update_layout(title='Матрица корреляции Energy, Danceability, Loudness, Valence')\\nfig.show()\""
      ]
     },
     "execution_count": 14,
     "metadata": {},
     "output_type": "execute_result"
    }
   ],
   "source": [
    "'''fig = go.Figure(data=go.Heatmap(\n",
    "        z=df[['energy', 'danceability', 'loudness', 'valence']].corr(),\n",
    "        x=['energy', 'danceability', 'loudness', 'valence'],\n",
    "        y=['energy', 'danceability', 'loudness', 'valence'],\n",
    "        colorscale='Viridis'))\n",
    "\n",
    "fig.update_layout(title='Матрица корреляции Energy, Danceability, Loudness, Valence')\n",
    "fig.show()'''"
   ]
  },
  {
   "cell_type": "markdown",
   "id": "0b1a5adc-b502-424f-a956-e9e592b1c2be",
   "metadata": {},
   "source": [
    "#### Сделайте общий вывод о том, зависит ли настроение трека (Valence) от проанализированных параметров:\n",
    "**Результат**: Текстовый ответ на вопрос.\n",
    "\n",
    "Настроение трека почти не зависит от проанализированных параметров. Наибольшая зависимость наблюдается от танцевальности: с ростом танцевальности повышается настроение  "
   ]
  },
  {
   "cell_type": "markdown",
   "id": "c7f666b8-1fd4-4205-8aff-03c0f239b186",
   "metadata": {},
   "source": [
    "### 2. С годами музыка становится дольше или быстрее?\n",
    "\n",
    "**Результат**: Код, реализующий графики:\n",
    "\n",
    "- Зависимость средней продолжительности трека от года, с линией тренда\n",
    "- Изменение средней продолжительности топ-5 самых длинных треков года\n",
    "- Изменение средней продолжительности топ-5 самых коротких треков года\n",
    "\n",
    "Каждый график должен иметь название, подписанные оси и, при необходимости, легенду."
   ]
  },
  {
   "cell_type": "code",
   "execution_count": 15,
   "id": "9eaa3217-6919-41ed-b9f3-3adc0b751a7d",
   "metadata": {},
   "outputs": [
    {
     "data": {
      "text/plain": [
       "'px.scatter(df, x=pd.unique(df.year), y=pd.unique(df.groupby(df.year)[\\'duration_ms\\'].transform(\\'mean\\')), trendline=\"lowess\",           title=\"Зависимость средней продолжительности трека от года, с линией тренда\",          labels=dict(x = \\'year\\', y = \\'average duration\\'))'"
      ]
     },
     "execution_count": 15,
     "metadata": {},
     "output_type": "execute_result"
    }
   ],
   "source": [
    "'''px.scatter(df, x=pd.unique(df.year), y=pd.unique(df.groupby(df.year)['duration_ms'].transform('mean')), trendline=\"lowess\", \\\n",
    "          title=\"Зависимость средней продолжительности трека от года, с линией тренда\",\\\n",
    "          labels=dict(x = 'year', y = 'average duration'))'''"
   ]
  },
  {
   "cell_type": "code",
   "execution_count": 16,
   "id": "349fb27a",
   "metadata": {},
   "outputs": [
    {
     "data": {
      "text/plain": [
       "'top_largest = []\\nfor year in pd.unique(df.year):\\n    top_largest.append(df[df.year == year][\\'duration_ms\\'].nlargest(5).mean())\\npx.scatter(df, x=pd.unique(df.year), y=top_largest,           title=\"Изменение средней продолжительности топ-5 самых длинных треков года\",          labels=dict(x = \\'year\\', y = \\'average top-5\\'))'"
      ]
     },
     "execution_count": 16,
     "metadata": {},
     "output_type": "execute_result"
    }
   ],
   "source": [
    "'''top_largest = []\n",
    "for year in pd.unique(df.year):\n",
    "    top_largest.append(df[df.year == year]['duration_ms'].nlargest(5).mean())\n",
    "px.scatter(df, x=pd.unique(df.year), y=top_largest, \\\n",
    "          title=\"Изменение средней продолжительности топ-5 самых длинных треков года\",\\\n",
    "          labels=dict(x = 'year', y = 'average top-5'))'''"
   ]
  },
  {
   "cell_type": "code",
   "execution_count": 17,
   "id": "bdd9964a",
   "metadata": {},
   "outputs": [
    {
     "data": {
      "text/plain": [
       "'top_smallest = []\\nfor year in pd.unique(df.year):\\n    top_smallest.append(df[df.year == year][\\'duration_ms\\'].nsmallest(5).mean())\\npx.scatter(df, x=pd.unique(df.year), y=top_smallest,           title=\"Изменение средней продолжительности топ-5 самых коротких треков года\",          labels=dict(x = \\'year\\', y = \\'average top-5\\'))'"
      ]
     },
     "execution_count": 17,
     "metadata": {},
     "output_type": "execute_result"
    }
   ],
   "source": [
    "'''top_smallest = []\n",
    "for year in pd.unique(df.year):\n",
    "    top_smallest.append(df[df.year == year]['duration_ms'].nsmallest(5).mean())\n",
    "px.scatter(df, x=pd.unique(df.year), y=top_smallest, \\\n",
    "          title=\"Изменение средней продолжительности топ-5 самых коротких треков года\",\\\n",
    "          labels=dict(x = 'year', y = 'average top-5'))'''"
   ]
  },
  {
   "cell_type": "markdown",
   "id": "237490a9-ec02-4291-ac53-0c57fff45194",
   "metadata": {},
   "source": [
    "### 3. Как менялись популярные жанры от 2000 от 2023? \n",
    "\n",
    "**Результат**: Код, реализующий график:\n",
    "- 3 самых популярных по среднему значению жанра каждого года, с подписью значений\n",
    "\n",
    "График должен иметь название, подписанные оси и подпись значений\n",
    "\n",
    "**Дополнительно**: Текстовый ответ, какие жанры оказывались в топ-3 чаще всего."
   ]
  },
  {
   "cell_type": "code",
   "execution_count": 18,
   "id": "af935e25-3c4f-4b63-af19-2843b0a1b506",
   "metadata": {},
   "outputs": [
    {
     "data": {
      "text/plain": [
       "\"n = 3\\ntop_genres = pd.DataFrame(columns=['average_popularity', 'genre', 'year'])\\nfor year in pd.unique(df.year):\\n    year_mean = []\\n    df_year = df[(df.year == year)]\\n    for genre in pd.unique(df_year.genre):\\n        year_mean.append((df_year[df_year.genre == genre]['popularity'].mean(), genre, year))\\n    year_mean = sorted(year_mean)[-n:]\\n    for i in range(n):\\n        top_genres.loc[len(top_genres.index)] = year_mean[i]\""
      ]
     },
     "execution_count": 18,
     "metadata": {},
     "output_type": "execute_result"
    }
   ],
   "source": [
    "'''n = 3\n",
    "top_genres = pd.DataFrame(columns=['average_popularity', 'genre', 'year'])\n",
    "for year in pd.unique(df.year):\n",
    "    year_mean = []\n",
    "    df_year = df[(df.year == year)]\n",
    "    for genre in pd.unique(df_year.genre):\n",
    "        year_mean.append((df_year[df_year.genre == genre]['popularity'].mean(), genre, year))\n",
    "    year_mean = sorted(year_mean)[-n:]\n",
    "    for i in range(n):\n",
    "        top_genres.loc[len(top_genres.index)] = year_mean[i]'''"
   ]
  },
  {
   "cell_type": "code",
   "execution_count": 19,
   "id": "beb62c69",
   "metadata": {},
   "outputs": [
    {
     "data": {
      "text/plain": [
       "\"px.scatter(top_genres, x='year', y='average_popularity', color='genre')\""
      ]
     },
     "execution_count": 19,
     "metadata": {},
     "output_type": "execute_result"
    }
   ],
   "source": [
    "'''px.scatter(top_genres, x='year', y='average_popularity', color='genre')'''"
   ]
  },
  {
   "cell_type": "markdown",
   "id": "5f248729",
   "metadata": {},
   "source": [
    "Жанры, которые оказывались в топ-3 чаще всего: pop, hip-hop, rock"
   ]
  },
  {
   "cell_type": "markdown",
   "id": "14ef53bd-02bd-4507-8774-4c969a78d731",
   "metadata": {},
   "source": [
    "### 4. Как связаны между собой Speechiness, Acousticness и Instrumentalness?\n",
    "\n",
    "**Результат**: Код, реализующий 2 различных по типу графика. Выбранные графики должны наиболее хорошо подходить для описания зависимости между указанными параметрами.\n",
    "\n",
    "Каждый график должен иметь название, подписанные оси и, при необходимости, легенду.\n",
    "\n",
    "**Дополнительно**: Текстовый ответ, почему были выбраны именно такие графики."
   ]
  },
  {
   "cell_type": "code",
   "execution_count": null,
   "id": "690b2c2f",
   "metadata": {},
   "outputs": [],
   "source": [
    "fig = px.bar(df, x='year', y='speechiness', color='country',\n",
    "             labels={'pop':'population'}, height=400, barmode='group')\n",
    "fig.show()"
   ]
  },
  {
   "cell_type": "markdown",
   "id": "b1bfe0bd-ed3e-4069-9ec9-d8f1524f6536",
   "metadata": {},
   "source": [
    "### 5. Какое влияние размер и лад оказывают на популярность в разных жанрах?\n",
    "\n",
    "**Результат**: Код, реализующий фигуру:\n",
    "\n",
    "- Жанры для сравнения: deep-house, funk, forro, dancehall, house.\n",
    "- Точечный график для каждого жанра, отражающий среднюю популярность в зависимости от размера (time_signature) и лада (mode).\n",
    "\n",
    "Фигура должна иметь название и легенду, каждый график имеет подписанные оси и название."
   ]
  },
  {
   "cell_type": "code",
   "execution_count": 21,
   "id": "ef4994a5-1965-40f2-8bb1-f64af2351e1c",
   "metadata": {},
   "outputs": [],
   "source": [
    "# YOUR CODE HERE"
   ]
  },
  {
   "cell_type": "markdown",
   "id": "16b219fc-a536-4206-85fe-7659f660ce8f",
   "metadata": {},
   "source": [
    "### 6. Как выглядят нормальные распределения, построенные для темпа по уникальным значениям размера трека?\n",
    "**Результат**: Код, реализующий графики распределения темпа (tempo) для всех уникальных значений размера трека (time_signature).\n",
    "\n",
    "Фигура должна иметь название и легенду. Распределения должны быть построены либо на одном графике, либо на нескольких графиках, но в рамках одной фигуры.\n",
    "\n",
    "**Дополнительно**: Код с ответом на вопрос, какие параметры (среднее и разброс) для нормальных распределений темпа для размера трека."
   ]
  },
  {
   "cell_type": "code",
   "execution_count": null,
   "id": "326d6f97-644d-4220-a6e6-4fa7145ac646",
   "metadata": {},
   "outputs": [],
   "source": [
    "# YOUR CODE HERE"
   ]
  },
  {
   "cell_type": "markdown",
   "id": "81f1b05f-59db-4e5d-bcdc-da9621b6eb5d",
   "metadata": {},
   "source": [
    "### 7. Проанализируйте популярность одного артиста (группы) с 10-100 треками на Ваш выбор. \n",
    "\n",
    "**Результат**: Код, реализующий следующие графики:\n",
    "\n",
    "- График, отражающий динамику суммарной популярности артиста год от года. Укажите стрелками с подписями, благодаря каким треками артист был на пике и на дне популярности.\n",
    "- Сопоставьте признаки для этих двух треков, в виде графиков на Ваш выбор. Укажите, какие из признаков вероятнее всего оказали наибольшее влияние на популярность выбранных треков.\n",
    "\n",
    "Графики должны находится в одной фигуре, имеющей название. Каждый график должен иметь название, подписанные оси и, при необходимости, легенду."
   ]
  },
  {
   "cell_type": "code",
   "execution_count": null,
   "id": "89ea195c-37dc-4e0d-84ec-efc3f55a1c77",
   "metadata": {},
   "outputs": [],
   "source": [
    "# YOUR CODE HERE"
   ]
  }
 ],
 "metadata": {
  "kernelspec": {
   "display_name": "Python 3 (ipykernel)",
   "language": "python",
   "name": "python3"
  },
  "language_info": {
   "codemirror_mode": {
    "name": "ipython",
    "version": 3
   },
   "file_extension": ".py",
   "mimetype": "text/x-python",
   "name": "python",
   "nbconvert_exporter": "python",
   "pygments_lexer": "ipython3",
   "version": "3.9.12"
  }
 },
 "nbformat": 4,
 "nbformat_minor": 5
}
